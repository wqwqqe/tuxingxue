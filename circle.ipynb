{
 "cells": [
  {
   "cell_type": "code",
   "execution_count": 1,
   "metadata": {},
   "outputs": [],
   "source": [
    "import numpy as np\n",
    "import matplotlib.pyplot as plt"
   ]
  },
  {
   "cell_type": "code",
   "execution_count": 2,
   "metadata": {},
   "outputs": [],
   "source": [
    "a=np.zeros((64,64,3))"
   ]
  },
  {
   "cell_type": "code",
   "execution_count": 3,
   "metadata": {},
   "outputs": [],
   "source": [
    "r=20"
   ]
  },
  {
   "cell_type": "code",
   "execution_count": 4,
   "metadata": {},
   "outputs": [],
   "source": [
    "o=31\n",
    "x=0\n",
    "y=r\n",
    "d=3-2*r\n",
    "while x<y:\n",
    "    a[x+o,y+o,0]=1\n",
    "    a[o-x,y+o,0]=1\n",
    "    a[x+o,o-y,0]=1\n",
    "    a[o-x,o-y,0]=1\n",
    "    a[y+o,x+o,0]=1\n",
    "    a[y+o,o-x,0]=1\n",
    "    a[o-y,x+o,0]=1\n",
    "    a[o-y,o-x,0]=1\n",
    "    if d<0:\n",
    "        d+=4*x+6\n",
    "    else:\n",
    "        d=d+4*(x-y)+10\n",
    "        y=y-1\n",
    "    x=x+1\n",
    "    if x==y:\n",
    "        a[x+o,y+o,0]=1\n",
    "        a[o-x,y+o,0]=1\n",
    "        a[x+o,o-y,0]=1\n",
    "        a[o-x,o-y,0]=1"
   ]
  },
  {
   "cell_type": "code",
   "execution_count": 5,
   "metadata": {},
   "outputs": [
    {
     "data": {
      "text/plain": [
       "<matplotlib.image.AxesImage at 0x2c900c2eb50>"
      ]
     },
     "execution_count": 5,
     "metadata": {},
     "output_type": "execute_result"
    },
    {
     "data": {
      "image/png": "[encoded data removed]",
      "text/plain": [
       "<Figure size 576x576 with 1 Axes>"
      ]
     },
     "metadata": {
      "needs_background": "light"
     },
     "output_type": "display_data"
    }
   ],
   "source": [
    "plt.figure(figsize=[8,8])\n",
    "plt.imshow(a)"
   ]
  },
  {
   "cell_type": "code",
   "execution_count": null,
   "metadata": {},
   "outputs": [],
   "source": []
  }
 ],
 "metadata": {
  "kernelspec": {
   "display_name": "Python 3",
   "language": "python",
   "name": "python3"
  },
  "language_info": {
   "codemirror_mode": {
    "name": "ipython",
    "version": 3
   },
   "file_extension": ".py",
   "mimetype": "text/x-python",
   "name": "python",
   "nbconvert_exporter": "python",
   "pygments_lexer": "ipython3",
   "version": "3.8.3"
  }
 },
 "nbformat": 4,
 "nbformat_minor": 4
}
