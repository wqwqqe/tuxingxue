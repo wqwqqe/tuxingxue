{
 "cells": [
  {
   "cell_type": "code",
   "execution_count": 1,
   "metadata": {},
   "outputs": [],
   "source": [
    "import numpy as np\n",
    "import matplotlib.pyplot as plt\n",
    "import time as time"
   ]
  },
  {
   "cell_type": "code",
   "execution_count": 2,
   "metadata": {},
   "outputs": [],
   "source": [
    "a=np.zeros((64,64,3))"
   ]
  },
  {
   "cell_type": "code",
   "execution_count": 3,
   "metadata": {},
   "outputs": [
    {
     "data": {
      "text/plain": [
       "<matplotlib.image.AxesImage at 0x24eda838be0>"
      ]
     },
     "execution_count": 3,
     "metadata": {},
     "output_type": "execute_result"
    },
    {
     "data": {
      "image/png": "[encoded data removed]",
      "text/plain": [
       "<Figure size 576x576 with 1 Axes>"
      ]
     },
     "metadata": {
      "needs_background": "light"
     },
     "output_type": "display_data"
    }
   ],
   "source": [
    "plt.figure(figsize=[8,8])\n",
    "plt.imshow(a)"
   ]
  },
  {
   "cell_type": "code",
   "execution_count": 4,
   "metadata": {},
   "outputs": [],
   "source": [
    "x1=0\n",
    "y1=0\n",
    "x2=700\n",
    "y2=1000"
   ]
  },
  {
   "cell_type": "markdown",
   "metadata": {},
   "source": [
    "# dda算法"
   ]
  },
  {
   "cell_type": "code",
   "execution_count": 5,
   "metadata": {},
   "outputs": [
    {
     "name": "stdout",
     "output_type": "stream",
     "text": [
      "0.0010042190551757812\n"
     ]
    }
   ],
   "source": [
    "start=time.time()\n",
    "if abs(x1-x2)>=abs(y1-y2):\n",
    "    l=abs(x1-x2)\n",
    "else:\n",
    "    l=abs(y1-y2)\n",
    "dx=(x2-x1)/l\n",
    "dy=(y2-y1)/l\n",
    "x=x1+0.5\n",
    "y=y1+0.5\n",
    "i=1\n",
    "while i<=l:\n",
    "    a[int(x),int(y),0]=1\n",
    "    x=x+dx\n",
    "    y=y+dy\n",
    "    i=i+1\n",
    "print(time.time()-start)"
   ]
  },
  {
   "cell_type": "code",
   "execution_count": 6,
   "metadata": {
    "scrolled": false
   },
   "outputs": [
    {
     "data": {
      "text/plain": [
       "<matplotlib.image.AxesImage at 0x24edd9a1f10>"
      ]
     },
     "execution_count": 6,
     "metadata": {},
     "output_type": "execute_result"
    },
    {
     "data": {
      "image/png": "[encoded data removed]",
      "text/plain": [
       "<Figure size 432x288 with 1 Axes>"
      ]
     },
     "metadata": {
      "needs_background": "light"
     },
     "output_type": "display_data"
    }
   ],
   "source": [
    "plt.imshow(a)"
   ]
  },
  {
   "cell_type": "markdown",
   "metadata": {},
   "source": [
    "# bresenham算法"
   ]
  },
  {
   "cell_type": "code",
   "execution_count": 7,
   "metadata": {},
   "outputs": [
    {
     "name": "stdout",
     "output_type": "stream",
     "text": [
      "0.0010311603546142578\n"
     ]
    }
   ],
   "source": [
    "start=time.time()\n",
    "x=x1\n",
    "y=y1\n",
    "dx=abs(x2-x1)\n",
    "dy=abs(y2-y1)\n",
    "if x2>x1:\n",
    "    s1=1\n",
    "else:\n",
    "    s1=-1\n",
    "if y2>y1:\n",
    "    s2=1\n",
    "else:\n",
    "    s2=-1\n",
    "if dy>dx:\n",
    "    temp=dx\n",
    "    dx=dy\n",
    "    dy=temp\n",
    "    interchange=1\n",
    "else:\n",
    "    interchange=0\n",
    "e=2*dy-dx\n",
    "for i in range(dx):\n",
    "    a[x,y,1]=1\n",
    "    while e>0:\n",
    "        if interchange==1:\n",
    "            x=x+s1\n",
    "        else:\n",
    "            y=y+s2\n",
    "        e=e-2*dx\n",
    "    if interchange==1:\n",
    "        y=y+s2\n",
    "    else:\n",
    "        x=x+s1\n",
    "    e=e+2*dy\n",
    "print(time.time()-start)"
   ]
  },
  {
   "cell_type": "code",
   "execution_count": 8,
   "metadata": {},
   "outputs": [],
   "source": [
    "k=y2/x2\n",
    "t=list(range(x2))\n",
    "s=[k*i for i in t]"
   ]
  },
  {
   "cell_type": "code",
   "execution_count": 9,
   "metadata": {},
   "outputs": [
    {
     "data": {
      "text/plain": [
       "<matplotlib.image.AxesImage at 0x24edd87dfd0>"
      ]
     },
     "execution_count": 9,
     "metadata": {},
     "output_type": "execute_result"
    },
    {
     "data": {
      "image/png": "[encoded data removed]",
      "text/plain": [
       "<Figure size 864x864 with 1 Axes>"
      ]
     },
     "metadata": {
      "needs_background": "light"
     },
     "output_type": "display_data"
    }
   ],
   "source": [
    "plt.figure(figsize=[12,12])\n",
    "plt.imshow(a)"
   ]
  },
  {
   "cell_type": "code",
   "execution_count": null,
   "metadata": {},
   "outputs": [],
   "source": []
  }
 ],
 "metadata": {
  "kernelspec": {
   "display_name": "Python 3",
   "language": "python",
   "name": "python3"
  },
  "language_info": {
   "codemirror_mode": {
    "name": "ipython",
    "version": 3
   },
   "file_extension": ".py",
   "mimetype": "text/x-python",
   "name": "python",
   "nbconvert_exporter": "python",
   "pygments_lexer": "ipython3",
   "version": "3.8.3"
  }
 },
 "nbformat": 4,
 "nbformat_minor": 4
}
